{
  "nbformat": 4,
  "nbformat_minor": 0,
  "metadata": {
    "colab": {
      "provenance": []
    },
    "kernelspec": {
      "name": "python3",
      "display_name": "Python 3"
    },
    "language_info": {
      "name": "python"
    }
  },
  "cells": [
    {
      "cell_type": "code",
      "execution_count": null,
      "metadata": {
        "id": "u4_xChD1u2Oz"
      },
      "outputs": [],
      "source": [
        "# Importo las librerías necesarias para trabajar con los datos y visualizar\n",
        "import pandas as pd  # Importo pandas para manejar los datos\n",
        "import matplotlib.pyplot as plt  # Importo matplotlib para visualización básica\n",
        "import seaborn as sns  # Importo seaborn para visualización más avanzada"
      ]
    },
    {
      "cell_type": "code",
      "source": [
        "#Para acceder a los archivo mas en si al csv\n",
        "from google.colab import drive\n",
        "drive.mount('/content/drive')"
      ],
      "metadata": {
        "id": "sohZbJWDu6jr"
      },
      "execution_count": null,
      "outputs": []
    },
    {
      "cell_type": "code",
      "source": [
        "# Cargo los datos desde un archivo CSV\n",
        "data = pd.read_csv('/content/drive/MyDrive/InteligenciaArtificial/Datasets/us_tornado_dataset_1950_2021Ronaldo.csv', delimiter=',')\n"
      ],
      "metadata": {
        "id": "BpGokK3mu4uj"
      },
      "execution_count": null,
      "outputs": []
    },
    {
      "cell_type": "code",
      "source": [
        "# Ahora calculo el impacto promedio de la magnitud del tornado en la población y la infraestructura\n",
        "impacto_promedio = data.groupby('mag')[['inj', 'fat', 'len', 'wid']].mean()  # Agrupo los datos por magnitud del tornado y calculo el promedio de las variables de interés\n"
      ],
      "metadata": {
        "id": "tU5mEqaku59z"
      },
      "execution_count": null,
      "outputs": []
    },
    {
      "cell_type": "code",
      "source": [
        "# Imprimo el impacto promedio calculado\n",
        "print(impacto_promedio)\n"
      ],
      "metadata": {
        "id": "94OhnAqgvD87"
      },
      "execution_count": null,
      "outputs": []
    },
    {
      "cell_type": "code",
      "source": [
        "\n",
        "# Ahora voy a visualizar este impacto promedio en un gráfico de barras\n",
        "plt.figure(figsize=(12, 8))  # Configuro el tamaño del gráfico\n",
        "impacto_promedio.plot(kind='bar', y=['inj', 'fat', 'len', 'wid'])  # Creo un gráfico de barras para mostrar el promedio de las variables por magnitud del tornado\n",
        "plt.xlabel('Magnitud del Tornado (Escala EF)')  # Añado etiqueta al eje x\n",
        "plt.ylabel('Promedio')  # Añado etiqueta al eje y\n",
        "plt.title('Impacto Promedio de la Magnitud del Tornado')  # Añado título al gráfico\n",
        "plt.legend(['Heridos', 'Muertes', 'Longitud', 'Ancho'])  # Añado leyenda al gráfico\n",
        "plt.show()  # Muestro el gráfico\n"
      ],
      "metadata": {
        "id": "nzdJ1D3-vFjq"
      },
      "execution_count": null,
      "outputs": []
    }
  ]
}